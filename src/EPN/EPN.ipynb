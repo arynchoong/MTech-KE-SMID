{
 "cells": [
  {
   "cell_type": "code",
   "execution_count": 231,
   "metadata": {
    "collapsed": false
   },
   "outputs": [],
   "source": [
    "import json\n",
    "from lxml import objectify\n",
    "from selenium import webdriver\n",
    "from bs4 import BeautifulSoup\n",
    "\n",
    "import urllib\n",
    "from urllib.request import urlopen\n",
    "from urllib.error import HTTPError\n",
    "from datetime import datetime\n",
    "from datetime import timedelta\n",
    "import time\n",
    "import pandas\n",
    "import numpy\n",
    "import re"
   ]
  },
  {
   "cell_type": "markdown",
   "metadata": {
    "collapsed": false
   },
   "source": [
    "## Links and params"
   ]
  },
  {
   "cell_type": "code",
   "execution_count": 2,
   "metadata": {
    "collapsed": true
   },
   "outputs": [],
   "source": [
    "## LTA\n",
    "headers = { 'AccountKey' : 'LBdfS4+RSEi4witEa6RjjQ==',\n",
    "            'UniqueUserID' : '812eb03f-f3a1-421c-96de-069c59844bbb',\n",
    "            'accept' : 'application/json'}\n",
    "uri = 'http://datamall2.mytransport.sg/'\n",
    "path_TSB = 'ltaodataservice/TrafficSpeedBands'\n",
    "path_TI = 'ltaodataservice/TrafficIncidents'\n",
    "path_FTL = 'ltaodataservice/FaultyTrafficLights'\n",
    "path_ETT = 'ltaodataservice/EstTravelTimes'\n",
    "path_RO = 'ltaodataservice/RoadOpenings'\n",
    "path_RW = 'ltaodataservice/RoadWorks'\n",
    "## NEA links and auth params\n",
    "key = '781CF461BB6606ADC767F3B357E848ED4A6709A0B39C63D6'\n",
    "urlNowcast = 'http://api.nea.gov.sg/api/WebAPI/?dataset=2hr_nowcast&keyref=' + key\n",
    "urlWarning = 'http://api.nea.gov.sg/api/WebAPI/?dataset=heavy_rain_warning&keyref=' + key\n",
    "## Meteorological Service Singapore Rainfall observations\n",
    "urlRainfall = 'http://www.weather.gov.sg/weather-currentobservations-rainfall'"
   ]
  },
  {
   "cell_type": "markdown",
   "metadata": {
    "collapsed": false
   },
   "source": [
    "### Test LTA data EPN"
   ]
  },
  {
   "cell_type": "code",
   "execution_count": 194,
   "metadata": {
    "collapsed": false
   },
   "outputs": [],
   "source": [
    "# Traffic Speed Band data - updates every 5 minutes\n",
    "request = urllib.request.Request(uri + path_TSB, headers=headers)\n",
    "try:\n",
    "    response = urlopen(request).read().decode('utf-8')\n",
    "except HTTPError as e:\n",
    "    print (e)\n",
    "else:\n",
    "    jsonObj = json.loads(response)\n",
    "    messages = jsonObj.get(\"value\")\n",
    "    dfTSB = pandas.DataFrame(messages)"
   ]
  },
  {
   "cell_type": "code",
   "execution_count": 203,
   "metadata": {
    "collapsed": false
   },
   "outputs": [
    {
     "data": {
      "text/html": [
       "<div>\n",
       "<table border=\"1\" class=\"dataframe\">\n",
       "  <thead>\n",
       "    <tr style=\"text-align: right;\">\n",
       "      <th></th>\n",
       "      <th>Location</th>\n",
       "      <th>MaximumSpeed</th>\n",
       "      <th>MinimumSpeed</th>\n",
       "      <th>RoadCategory</th>\n",
       "      <th>RoadName</th>\n",
       "      <th>SpeedBand</th>\n",
       "    </tr>\n",
       "  </thead>\n",
       "  <tbody>\n",
       "    <tr>\n",
       "      <th>103098943</th>\n",
       "      <td>1.3805895432850994 103.74201730473243 1.380040...</td>\n",
       "      <td>59</td>\n",
       "      <td>40</td>\n",
       "      <td>D</td>\n",
       "      <td>CHOA CHU KANG AVENUE 3</td>\n",
       "      <td>3</td>\n",
       "    </tr>\n",
       "    <tr>\n",
       "      <th>103076063</th>\n",
       "      <td>1.399027473240379 103.7553182996927 1.39866097...</td>\n",
       "      <td>59</td>\n",
       "      <td>40</td>\n",
       "      <td>B</td>\n",
       "      <td>WOODLANDS ROAD</td>\n",
       "      <td>3</td>\n",
       "    </tr>\n",
       "    <tr>\n",
       "      <th>103030883</th>\n",
       "      <td>1.3742439017982357 103.88529975827204 1.373869...</td>\n",
       "      <td>39</td>\n",
       "      <td>20</td>\n",
       "      <td>D</td>\n",
       "      <td>HOUGANG AVENUE 4</td>\n",
       "      <td>2</td>\n",
       "    </tr>\n",
       "    <tr>\n",
       "      <th>104003992</th>\n",
       "      <td>1.3163287378822295 103.76133268167833 1.315260...</td>\n",
       "      <td>59</td>\n",
       "      <td>40</td>\n",
       "      <td>F</td>\n",
       "      <td>CLEMENTI AVENUE 6</td>\n",
       "      <td>3</td>\n",
       "    </tr>\n",
       "    <tr>\n",
       "      <th>103110036</th>\n",
       "      <td>1.333534171783063 103.88445104036495 1.3344802...</td>\n",
       "      <td>39</td>\n",
       "      <td>20</td>\n",
       "      <td>E</td>\n",
       "      <td>HARVEY ROAD</td>\n",
       "      <td>2</td>\n",
       "    </tr>\n",
       "  </tbody>\n",
       "</table>\n",
       "</div>"
      ],
      "text/plain": [
       "                                                    Location MaximumSpeed  \\\n",
       "103098943  1.3805895432850994 103.74201730473243 1.380040...           59   \n",
       "103076063  1.399027473240379 103.7553182996927 1.39866097...           59   \n",
       "103030883  1.3742439017982357 103.88529975827204 1.373869...           39   \n",
       "104003992  1.3163287378822295 103.76133268167833 1.315260...           59   \n",
       "103110036  1.333534171783063 103.88445104036495 1.3344802...           39   \n",
       "\n",
       "          MinimumSpeed RoadCategory                RoadName  SpeedBand  \n",
       "103098943           40            D  CHOA CHU KANG AVENUE 3          3  \n",
       "103076063           40            B          WOODLANDS ROAD          3  \n",
       "103030883           20            D        HOUGANG AVENUE 4          2  \n",
       "104003992           40            F       CLEMENTI AVENUE 6          3  \n",
       "103110036           20            E             HARVEY ROAD          2  "
      ]
     },
     "execution_count": 203,
     "metadata": {},
     "output_type": "execute_result"
    }
   ],
   "source": [
    "#dfTSB = dfTSB.set_index('LinkID')\n",
    "#dfTSB.index.name = None\n",
    "dfTSB.head()"
   ]
  },
  {
   "cell_type": "code",
   "execution_count": 202,
   "metadata": {
    "collapsed": false
   },
   "outputs": [
    {
     "data": {
      "text/html": [
       "<div>\n",
       "<table border=\"1\" class=\"dataframe\">\n",
       "  <thead>\n",
       "    <tr style=\"text-align: right;\">\n",
       "      <th></th>\n",
       "      <th>Location</th>\n",
       "      <th>MaximumSpeed</th>\n",
       "      <th>MinimumSpeed</th>\n",
       "      <th>RoadCategory</th>\n",
       "      <th>RoadName</th>\n",
       "      <th>SpeedBand</th>\n",
       "    </tr>\n",
       "  </thead>\n",
       "  <tbody>\n",
       "    <tr>\n",
       "      <th>103098943</th>\n",
       "      <td>1.3805895432850994 103.74201730473243 1.380040...</td>\n",
       "      <td>39</td>\n",
       "      <td>20</td>\n",
       "      <td>D</td>\n",
       "      <td>CHOA CHU KANG AVENUE 3</td>\n",
       "      <td>2</td>\n",
       "    </tr>\n",
       "    <tr>\n",
       "      <th>103076063</th>\n",
       "      <td>1.399027473240379 103.7553182996927 1.39866097...</td>\n",
       "      <td>59</td>\n",
       "      <td>40</td>\n",
       "      <td>B</td>\n",
       "      <td>WOODLANDS ROAD</td>\n",
       "      <td>3</td>\n",
       "    </tr>\n",
       "    <tr>\n",
       "      <th>103030883</th>\n",
       "      <td>1.3742439017982357 103.88529975827204 1.373869...</td>\n",
       "      <td>39</td>\n",
       "      <td>20</td>\n",
       "      <td>D</td>\n",
       "      <td>HOUGANG AVENUE 4</td>\n",
       "      <td>2</td>\n",
       "    </tr>\n",
       "    <tr>\n",
       "      <th>104003992</th>\n",
       "      <td>1.3163287378822295 103.76133268167833 1.315260...</td>\n",
       "      <td>59</td>\n",
       "      <td>40</td>\n",
       "      <td>F</td>\n",
       "      <td>CLEMENTI AVENUE 6</td>\n",
       "      <td>3</td>\n",
       "    </tr>\n",
       "    <tr>\n",
       "      <th>103110036</th>\n",
       "      <td>1.333534171783063 103.88445104036495 1.3344802...</td>\n",
       "      <td>39</td>\n",
       "      <td>20</td>\n",
       "      <td>E</td>\n",
       "      <td>HARVEY ROAD</td>\n",
       "      <td>2</td>\n",
       "    </tr>\n",
       "  </tbody>\n",
       "</table>\n",
       "</div>"
      ],
      "text/plain": [
       "                                                    Location MaximumSpeed  \\\n",
       "103098943  1.3805895432850994 103.74201730473243 1.380040...           39   \n",
       "103076063  1.399027473240379 103.7553182996927 1.39866097...           59   \n",
       "103030883  1.3742439017982357 103.88529975827204 1.373869...           39   \n",
       "104003992  1.3163287378822295 103.76133268167833 1.315260...           59   \n",
       "103110036  1.333534171783063 103.88445104036495 1.3344802...           39   \n",
       "\n",
       "          MinimumSpeed RoadCategory                RoadName  SpeedBand  \n",
       "103098943           20            D  CHOA CHU KANG AVENUE 3          2  \n",
       "103076063           40            B          WOODLANDS ROAD          3  \n",
       "103030883           20            D        HOUGANG AVENUE 4          2  \n",
       "104003992           40            F       CLEMENTI AVENUE 6          3  \n",
       "103110036           20            E             HARVEY ROAD          2  "
      ]
     },
     "execution_count": 202,
     "metadata": {},
     "output_type": "execute_result"
    }
   ],
   "source": [
    "#dfTSB2 = dfTSB.set_index('LinkID')\n",
    "#dfTSB2.index.name = None\n",
    "dfTSB2.head()"
   ]
  },
  {
   "cell_type": "code",
   "execution_count": 240,
   "metadata": {
    "collapsed": false
   },
   "outputs": [
    {
     "data": {
      "text/html": [
       "<div>\n",
       "<table border=\"1\" class=\"dataframe\">\n",
       "  <thead>\n",
       "    <tr style=\"text-align: right;\">\n",
       "      <th></th>\n",
       "      <th></th>\n",
       "      <th>from</th>\n",
       "      <th>to</th>\n",
       "    </tr>\n",
       "    <tr>\n",
       "      <th>id</th>\n",
       "      <th>col</th>\n",
       "      <th></th>\n",
       "      <th></th>\n",
       "    </tr>\n",
       "  </thead>\n",
       "  <tbody>\n",
       "    <tr>\n",
       "      <th rowspan=\"3\" valign=\"top\">103098943</th>\n",
       "      <th>MaximumSpeed</th>\n",
       "      <td>59</td>\n",
       "      <td>39</td>\n",
       "    </tr>\n",
       "    <tr>\n",
       "      <th>MinimumSpeed</th>\n",
       "      <td>40</td>\n",
       "      <td>20</td>\n",
       "    </tr>\n",
       "    <tr>\n",
       "      <th>SpeedBand</th>\n",
       "      <td>3</td>\n",
       "      <td>2</td>\n",
       "    </tr>\n",
       "    <tr>\n",
       "      <th rowspan=\"2\" valign=\"top\">103070015</th>\n",
       "      <th>MaximumSpeed</th>\n",
       "      <td>59</td>\n",
       "      <td>39</td>\n",
       "    </tr>\n",
       "    <tr>\n",
       "      <th>MinimumSpeed</th>\n",
       "      <td>40</td>\n",
       "      <td>20</td>\n",
       "    </tr>\n",
       "  </tbody>\n",
       "</table>\n",
       "</div>"
      ],
      "text/plain": [
       "                       from  to\n",
       "id        col                  \n",
       "103098943 MaximumSpeed   59  39\n",
       "          MinimumSpeed   40  20\n",
       "          SpeedBand       3   2\n",
       "103070015 MaximumSpeed   59  39\n",
       "          MinimumSpeed   40  20"
      ]
     },
     "execution_count": 240,
     "metadata": {},
     "output_type": "execute_result"
    }
   ],
   "source": [
    "neRows = (dfTSB != dfTSB2).any(1)\n",
    "neRows\n",
    "ne_stacked = (dfTSB != dfTSB2).stack()\n",
    "ne_stacked\n",
    "changed = ne_stacked[ne_stacked]\n",
    "changed.index.names = ['id', 'col']\n",
    "changed\n",
    "diff_loc = numpy.where(dfTSB != dfTSB2)\n",
    "changed_from = dfTSB.values[diff_loc]\n",
    "changed_to = dfTSB2.values[diff_loc]\n",
    "diff = pandas.DataFrame({'from': changed_from, 'to': changed_to}, index=changed.index)\n",
    "diff.head()"
   ]
  },
  {
   "cell_type": "code",
   "execution_count": 279,
   "metadata": {
    "collapsed": false
   },
   "outputs": [
    {
     "name": "stdout",
     "output_type": "stream",
     "text": [
      "3 2\n",
      "3 2\n",
      "3 4\n",
      "2 1\n",
      "3 2\n",
      "2 1\n"
     ]
    }
   ],
   "source": [
    "for id, row in diff.iterrows():\n",
    "    if (id[1] == 'SpeedBand'):\n",
    "        print(row['from'], row['to']) "
   ]
  },
  {
   "cell_type": "code",
   "execution_count": 218,
   "metadata": {
    "collapsed": false
   },
   "outputs": [
    {
     "name": "stdout",
     "output_type": "stream",
     "text": [
      "same\n",
      "diff\n"
     ]
    }
   ],
   "source": [
    "df1 = df.copy()\n",
    "if(df.equals(df1)):\n",
    "    print('same')\n",
    "if not (dfTSB.equals(dfTSB2)):\n",
    "    print('diff')"
   ]
  },
  {
   "cell_type": "code",
   "execution_count": 9,
   "metadata": {
    "collapsed": false
   },
   "outputs": [],
   "source": [
    "# ESTIMATED TRAVEL TIMES data - updates every 5 minutes\n",
    "request = urllib.request.Request(uri + path_ETT, headers=headers)\n",
    "try:\n",
    "    response = urlopen(request).read().decode('utf-8')\n",
    "except HTTPError as e:\n",
    "    print (e)\n",
    "else:\n",
    "    jsonObj = json.loads(response)\n",
    "    messages = jsonObj.get(\"value\")\n",
    "    dfETT = pandas.DataFrame(messages)"
   ]
  },
  {
   "cell_type": "code",
   "execution_count": 18,
   "metadata": {
    "collapsed": false
   },
   "outputs": [
    {
     "data": {
      "text/html": [
       "<div>\n",
       "<table border=\"1\" class=\"dataframe\">\n",
       "  <thead>\n",
       "    <tr style=\"text-align: right;\">\n",
       "      <th></th>\n",
       "      <th>Direction</th>\n",
       "      <th>EndPoint</th>\n",
       "      <th>EstTime</th>\n",
       "      <th>FarEndPoint</th>\n",
       "      <th>Name</th>\n",
       "      <th>StartPoint</th>\n",
       "    </tr>\n",
       "  </thead>\n",
       "  <tbody>\n",
       "    <tr>\n",
       "      <th>0</th>\n",
       "      <td>1</td>\n",
       "      <td>TELOK BLANGAH RD</td>\n",
       "      <td>2</td>\n",
       "      <td>TUAS CHECKPOINT</td>\n",
       "      <td>AYE</td>\n",
       "      <td>AYE/MCE INTERCHANGE</td>\n",
       "    </tr>\n",
       "    <tr>\n",
       "      <th>1</th>\n",
       "      <td>1</td>\n",
       "      <td>LOWER DELTA RD</td>\n",
       "      <td>1</td>\n",
       "      <td>TUAS CHECKPOINT</td>\n",
       "      <td>AYE</td>\n",
       "      <td>TELOK BLANGAH RD</td>\n",
       "    </tr>\n",
       "  </tbody>\n",
       "</table>\n",
       "</div>"
      ],
      "text/plain": [
       "   Direction          EndPoint  EstTime      FarEndPoint Name  \\\n",
       "0          1  TELOK BLANGAH RD        2  TUAS CHECKPOINT  AYE   \n",
       "1          1    LOWER DELTA RD        1  TUAS CHECKPOINT  AYE   \n",
       "\n",
       "            StartPoint  \n",
       "0  AYE/MCE INTERCHANGE  \n",
       "1     TELOK BLANGAH RD  "
      ]
     },
     "execution_count": 18,
     "metadata": {},
     "output_type": "execute_result"
    }
   ],
   "source": [
    "dfETT.head(2)"
   ]
  },
  {
   "cell_type": "code",
   "execution_count": 13,
   "metadata": {
    "collapsed": true
   },
   "outputs": [],
   "source": [
    "# collect Traffic Incidents data - updates every 2 minutes\n",
    "request = urllib.request.Request(uri + path_TI, headers=headers)\n",
    "try:\n",
    "    response = urlopen(request).read().decode('utf-8')\n",
    "except HTTPError as e:\n",
    "    print (e)\n",
    "else:\n",
    "    jsonObj = json.loads(response)\n",
    "    messages = jsonObj.get(\"value\")\n",
    "    dfTI = pandas.DataFrame(messages)"
   ]
  },
  {
   "cell_type": "code",
   "execution_count": 19,
   "metadata": {
    "collapsed": false
   },
   "outputs": [
    {
     "data": {
      "text/html": [
       "<div>\n",
       "<table border=\"1\" class=\"dataframe\">\n",
       "  <thead>\n",
       "    <tr style=\"text-align: right;\">\n",
       "      <th></th>\n",
       "      <th>Latitude</th>\n",
       "      <th>Longitude</th>\n",
       "      <th>Message</th>\n",
       "      <th>Type</th>\n",
       "    </tr>\n",
       "  </thead>\n",
       "  <tbody>\n",
       "    <tr>\n",
       "      <th>0</th>\n",
       "      <td>1.392957</td>\n",
       "      <td>103.824566</td>\n",
       "      <td>(8/11)22:09 Vehicle breakdown on SLE (towards ...</td>\n",
       "      <td>Vehicle breakdown</td>\n",
       "    </tr>\n",
       "    <tr>\n",
       "      <th>1</th>\n",
       "      <td>1.305273</td>\n",
       "      <td>103.860494</td>\n",
       "      <td>(8/11)22:05 Roadworks on Victoria Street (towa...</td>\n",
       "      <td>Roadwork</td>\n",
       "    </tr>\n",
       "  </tbody>\n",
       "</table>\n",
       "</div>"
      ],
      "text/plain": [
       "   Latitude   Longitude                                            Message  \\\n",
       "0  1.392957  103.824566  (8/11)22:09 Vehicle breakdown on SLE (towards ...   \n",
       "1  1.305273  103.860494  (8/11)22:05 Roadworks on Victoria Street (towa...   \n",
       "\n",
       "                Type  \n",
       "0  Vehicle breakdown  \n",
       "1           Roadwork  "
      ]
     },
     "execution_count": 19,
     "metadata": {},
     "output_type": "execute_result"
    }
   ],
   "source": [
    "dfTI.head(2)"
   ]
  },
  {
   "cell_type": "code",
   "execution_count": 156,
   "metadata": {
    "collapsed": false
   },
   "outputs": [],
   "source": [
    "# collect Nowcast data - updates every 30 mins\n",
    "request = urllib.request.Request(urlNowcast)\n",
    "try:\n",
    "    parsed = objectify.parse(urlopen(request))\n",
    "except HTTPError as e:\n",
    "    print (e)\n",
    "else:\n",
    "    parsed = objectify.parse(urlopen(request))\n",
    "    root = parsed.getroot()\n",
    "    dfNowcast = pandas.DataFrame(columns=['Forecast', 'Latitude', 'Longitude', 'Name'])\n",
    "    for area in root.iter('area'):\n",
    "        dfNowcast = dfNowcast.append({'Forecast':area.get('forecast'),'Latitude':area.get('lat'),'Longitude':area.get('lon'),'Name':area.get('name')}, ignore_index=True)"
   ]
  },
  {
   "cell_type": "code",
   "execution_count": 157,
   "metadata": {
    "collapsed": false
   },
   "outputs": [
    {
     "data": {
      "text/html": [
       "<div>\n",
       "<table border=\"1\" class=\"dataframe\">\n",
       "  <thead>\n",
       "    <tr style=\"text-align: right;\">\n",
       "      <th></th>\n",
       "      <th>Forecast</th>\n",
       "      <th>Latitude</th>\n",
       "      <th>Longitude</th>\n",
       "      <th>Name</th>\n",
       "    </tr>\n",
       "  </thead>\n",
       "  <tbody>\n",
       "    <tr>\n",
       "      <th>0</th>\n",
       "      <td>TL</td>\n",
       "      <td>1.37500000</td>\n",
       "      <td>103.83900000</td>\n",
       "      <td>Ang Mo Kio</td>\n",
       "    </tr>\n",
       "    <tr>\n",
       "      <th>1</th>\n",
       "      <td>TL</td>\n",
       "      <td>1.32100000</td>\n",
       "      <td>103.92400000</td>\n",
       "      <td>Bedok</td>\n",
       "    </tr>\n",
       "  </tbody>\n",
       "</table>\n",
       "</div>"
      ],
      "text/plain": [
       "  Forecast    Latitude     Longitude        Name\n",
       "0       TL  1.37500000  103.83900000  Ang Mo Kio\n",
       "1       TL  1.32100000  103.92400000       Bedok"
      ]
     },
     "execution_count": 157,
     "metadata": {},
     "output_type": "execute_result"
    }
   ],
   "source": [
    "dfNowcast.head(2)"
   ]
  },
  {
   "cell_type": "code",
   "execution_count": 185,
   "metadata": {
    "collapsed": false
   },
   "outputs": [
    {
     "name": "stdout",
     "output_type": "stream",
     "text": [
      "            Forecast    Latitude     Longitude\n",
      "Ang Mo Kio        TL  1.37500000  103.83900000\n",
      "Bedok             TL  1.32100000  103.92400000\n",
      "Bishan            TL  1.35077200  103.83900000\n",
      "Boon Lay          SH  1.30400000  103.70100000\n",
      "Bukit Batok       SH  1.35300000  103.75400000\n"
     ]
    }
   ],
   "source": [
    "dfNowc = dfNowcast.set_index('Name')\n",
    "dfNowc.index.name = None\n",
    "print(dfNowc.head())"
   ]
  },
  {
   "cell_type": "code",
   "execution_count": 183,
   "metadata": {
    "collapsed": false
   },
   "outputs": [],
   "source": [
    "# collect Heavy Rain Warning data - updates every hour\n",
    "request = urllib.request.Request(urlWarning)\n",
    "try:\n",
    "    parsed = objectify.parse(urlopen(request))\n",
    "except HTTPError as e:\n",
    "    print (e)\n",
    "else:\n",
    "    parsed = objectify.parse(urlopen(request))\n",
    "    root = parsed.getroot()\n",
    "    HRWmsg = root.item.warning.text\n",
    "    HRWmsg = HRWmsg.strip()\n",
    "    HRWtime = root.item.issue_datentime.text\n",
    "    HRWtime = HRWtime.strip()"
   ]
  },
  {
   "cell_type": "code",
   "execution_count": 184,
   "metadata": {
    "collapsed": false
   },
   "outputs": [
    {
     "name": "stdout",
     "output_type": "stream",
     "text": [
      "No warnings\n"
     ]
    }
   ],
   "source": [
    "if('NIL' in HRWmsg):\n",
    "    print('No warnings')\n",
    "else:\n",
    "    print(HRWmsg)"
   ]
  },
  {
   "cell_type": "code",
   "execution_count": 173,
   "metadata": {
    "collapsed": false
   },
   "outputs": [],
   "source": [
    "# collect Rainfall data - updates every 10 mins\n",
    "driver = webdriver.PhantomJS(executable_path='../bin/phantomjs')\n",
    "try:\n",
    "    driver.get(urlRainfall)\n",
    "except HTTPError as e:\n",
    "    print (e)\n",
    "else:\n",
    "    # wait for page load\n",
    "    time.sleep(2)\n",
    "    html30mins = driver.page_source\n",
    "    bsObj = BeautifulSoup(html30mins,\"lxml\")\n",
    "    # Get data timestamp\n",
    "    element = bsObj.find(\"img\", {\"id\":\"basemap\"})\n",
    "    pattern = re.compile('[0-9]+:[0-9]+')\n",
    "    rainfallTimestamp = pattern.findall(element.attrs['src'])[0]\n",
    "    # load 30 mins rainfall data\n",
    "    dataset30mins =  bsObj.findAll(\"\",{\"class\":\"sgr\"})\n",
    "    dfRainfall = pandas.DataFrame(columns=['StationId', 'rain30mins'])\n",
    "    for data in dataset30mins:\n",
    "        dfRainfall = dfRainfall.append({'StationId':data.get('id'), 'rain30mins':data.get_text()},ignore_index=True)"
   ]
  },
  {
   "cell_type": "code",
   "execution_count": 174,
   "metadata": {
    "collapsed": false
   },
   "outputs": [
    {
     "data": {
      "text/html": [
       "<div>\n",
       "<table border=\"1\" class=\"dataframe\">\n",
       "  <thead>\n",
       "    <tr style=\"text-align: right;\">\n",
       "      <th></th>\n",
       "      <th>StationId</th>\n",
       "      <th>rain30mins</th>\n",
       "    </tr>\n",
       "  </thead>\n",
       "  <tbody>\n",
       "    <tr>\n",
       "      <th>0</th>\n",
       "      <td>S07</td>\n",
       "      <td>0</td>\n",
       "    </tr>\n",
       "    <tr>\n",
       "      <th>1</th>\n",
       "      <td>S08</td>\n",
       "      <td>0</td>\n",
       "    </tr>\n",
       "  </tbody>\n",
       "</table>\n",
       "</div>"
      ],
      "text/plain": [
       "  StationId rain30mins\n",
       "0       S07          0\n",
       "1       S08          0"
      ]
     },
     "execution_count": 174,
     "metadata": {},
     "output_type": "execute_result"
    }
   ],
   "source": [
    "dfRainfall.head(2)"
   ]
  },
  {
   "cell_type": "code",
   "execution_count": 175,
   "metadata": {
    "collapsed": false
   },
   "outputs": [
    {
     "data": {
      "text/html": [
       "<div>\n",
       "<table border=\"1\" class=\"dataframe\">\n",
       "  <thead>\n",
       "    <tr style=\"text-align: right;\">\n",
       "      <th></th>\n",
       "      <th>rain30mins</th>\n",
       "    </tr>\n",
       "  </thead>\n",
       "  <tbody>\n",
       "    <tr>\n",
       "      <th>S07</th>\n",
       "      <td>0</td>\n",
       "    </tr>\n",
       "    <tr>\n",
       "      <th>S08</th>\n",
       "      <td>0</td>\n",
       "    </tr>\n",
       "    <tr>\n",
       "      <th>S101</th>\n",
       "      <td>0</td>\n",
       "    </tr>\n",
       "    <tr>\n",
       "      <th>S104</th>\n",
       "      <td>0</td>\n",
       "    </tr>\n",
       "    <tr>\n",
       "      <th>S106</th>\n",
       "      <td>0</td>\n",
       "    </tr>\n",
       "  </tbody>\n",
       "</table>\n",
       "</div>"
      ],
      "text/plain": [
       "     rain30mins\n",
       "S07           0\n",
       "S08           0\n",
       "S101          0\n",
       "S104          0\n",
       "S106          0"
      ]
     },
     "execution_count": 175,
     "metadata": {},
     "output_type": "execute_result"
    }
   ],
   "source": [
    "dfRain = dfRainfall.set_index('StationId')\n",
    "dfRain.index.name = None\n",
    "dfRain.ix['S113']\n",
    "dfRain.head()"
   ]
  },
  {
   "cell_type": "code",
   "execution_count": null,
   "metadata": {
    "collapsed": true
   },
   "outputs": [],
   "source": []
  }
 ],
 "metadata": {
  "anaconda-cloud": {},
  "kernelspec": {
   "display_name": "Python [Root]",
   "language": "python",
   "name": "Python [Root]"
  },
  "language_info": {
   "codemirror_mode": {
    "name": "ipython",
    "version": 3
   },
   "file_extension": ".py",
   "mimetype": "text/x-python",
   "name": "python",
   "nbconvert_exporter": "python",
   "pygments_lexer": "ipython3",
   "version": "3.5.2"
  }
 },
 "nbformat": 4,
 "nbformat_minor": 0
}
