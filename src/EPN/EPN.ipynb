{
 "cells": [
  {
   "cell_type": "code",
   "execution_count": 2,
   "metadata": {
    "collapsed": false
   },
   "outputs": [],
   "source": [
    "import json\n",
    "from lxml import objectify\n",
    "from selenium import webdriver\n",
    "from bs4 import BeautifulSoup\n",
    "\n",
    "import urllib\n",
    "from urllib.request import urlopen\n",
    "from urllib.error import HTTPError\n",
    "from datetime import datetime\n",
    "from datetime import timedelta\n",
    "import time\n",
    "import pandas\n",
    "import numpy\n",
    "import re"
   ]
  },
  {
   "cell_type": "markdown",
   "metadata": {
    "collapsed": false
   },
   "source": [
    "## Links and params"
   ]
  },
  {
   "cell_type": "code",
   "execution_count": 3,
   "metadata": {
    "collapsed": true
   },
   "outputs": [],
   "source": [
    "## LTA\n",
    "headers = { 'AccountKey' : 'LBdfS4+RSEi4witEa6RjjQ==',\n",
    "            'UniqueUserID' : '812eb03f-f3a1-421c-96de-069c59844bbb',\n",
    "            'accept' : 'application/json'}\n",
    "uri = 'http://datamall2.mytransport.sg/'\n",
    "path_TSB = 'ltaodataservice/TrafficSpeedBands'\n",
    "path_TI = 'ltaodataservice/TrafficIncidents'\n",
    "path_FTL = 'ltaodataservice/FaultyTrafficLights'\n",
    "path_ETT = 'ltaodataservice/EstTravelTimes'\n",
    "path_RO = 'ltaodataservice/RoadOpenings'\n",
    "path_RW = 'ltaodataservice/RoadWorks'\n",
    "## NEA links and auth params\n",
    "key = '781CF461BB6606ADC767F3B357E848ED4A6709A0B39C63D6'\n",
    "urlNowcast = 'http://api.nea.gov.sg/api/WebAPI/?dataset=2hr_nowcast&keyref=' + key\n",
    "urlWarning = 'http://api.nea.gov.sg/api/WebAPI/?dataset=heavy_rain_warning&keyref=' + key\n",
    "## Meteorological Service Singapore Rainfall observations\n",
    "urlRainfall = 'http://www.weather.gov.sg/weather-currentobservations-rainfall'"
   ]
  },
  {
   "cell_type": "markdown",
   "metadata": {
    "collapsed": false
   },
   "source": [
    "### Test LTA data EPN"
   ]
  },
  {
   "cell_type": "code",
   "execution_count": 4,
   "metadata": {
    "collapsed": false
   },
   "outputs": [],
   "source": [
    "# Traffic Speed Band data - updates every 5 minutes\n",
    "request = urllib.request.Request(uri + path_TSB, headers=headers)\n",
    "try:\n",
    "    response = urlopen(request).read().decode('utf-8')\n",
    "except HTTPError as e:\n",
    "    print (e)\n",
    "else:\n",
    "    jsonObj = json.loads(response)\n",
    "    messages = jsonObj.get(\"value\")\n",
    "    dfTSB = pandas.DataFrame(messages)"
   ]
  },
  {
   "cell_type": "code",
   "execution_count": 30,
   "metadata": {
    "collapsed": false
   },
   "outputs": [
    {
     "data": {
      "text/html": [
       "<div>\n",
       "<table border=\"1\" class=\"dataframe\">\n",
       "  <thead>\n",
       "    <tr style=\"text-align: right;\">\n",
       "      <th></th>\n",
       "      <th>Location</th>\n",
       "      <th>MaximumSpeed</th>\n",
       "      <th>MinimumSpeed</th>\n",
       "      <th>RoadCategory</th>\n",
       "      <th>RoadName</th>\n",
       "      <th>SpeedBand</th>\n",
       "    </tr>\n",
       "  </thead>\n",
       "  <tbody>\n",
       "    <tr>\n",
       "      <th>103098943</th>\n",
       "      <td>1.3805895432850994 103.74201730473243 1.380040...</td>\n",
       "      <td>59</td>\n",
       "      <td>40</td>\n",
       "      <td>D</td>\n",
       "      <td>CHOA CHU KANG AVENUE 3</td>\n",
       "      <td>3</td>\n",
       "    </tr>\n",
       "    <tr>\n",
       "      <th>103076063</th>\n",
       "      <td>1.399027473240379 103.7553182996927 1.39866097...</td>\n",
       "      <td>59</td>\n",
       "      <td>40</td>\n",
       "      <td>B</td>\n",
       "      <td>WOODLANDS ROAD</td>\n",
       "      <td>3</td>\n",
       "    </tr>\n",
       "    <tr>\n",
       "      <th>103030883</th>\n",
       "      <td>1.3742439017982357 103.88529975827204 1.373869...</td>\n",
       "      <td>39</td>\n",
       "      <td>20</td>\n",
       "      <td>D</td>\n",
       "      <td>HOUGANG AVENUE 4</td>\n",
       "      <td>2</td>\n",
       "    </tr>\n",
       "    <tr>\n",
       "      <th>104003992</th>\n",
       "      <td>1.3163287378822295 103.76133268167833 1.315260...</td>\n",
       "      <td>59</td>\n",
       "      <td>40</td>\n",
       "      <td>F</td>\n",
       "      <td>CLEMENTI AVENUE 6</td>\n",
       "      <td>3</td>\n",
       "    </tr>\n",
       "    <tr>\n",
       "      <th>103110036</th>\n",
       "      <td>1.333534171783063 103.88445104036495 1.3344802...</td>\n",
       "      <td>39</td>\n",
       "      <td>20</td>\n",
       "      <td>E</td>\n",
       "      <td>HARVEY ROAD</td>\n",
       "      <td>2</td>\n",
       "    </tr>\n",
       "  </tbody>\n",
       "</table>\n",
       "</div>"
      ],
      "text/plain": [
       "                                                    Location MaximumSpeed  \\\n",
       "103098943  1.3805895432850994 103.74201730473243 1.380040...           59   \n",
       "103076063  1.399027473240379 103.7553182996927 1.39866097...           59   \n",
       "103030883  1.3742439017982357 103.88529975827204 1.373869...           39   \n",
       "104003992  1.3163287378822295 103.76133268167833 1.315260...           59   \n",
       "103110036  1.333534171783063 103.88445104036495 1.3344802...           39   \n",
       "\n",
       "          MinimumSpeed RoadCategory                RoadName  SpeedBand  \n",
       "103098943           40            D  CHOA CHU KANG AVENUE 3          3  \n",
       "103076063           40            B          WOODLANDS ROAD          3  \n",
       "103030883           20            D        HOUGANG AVENUE 4          2  \n",
       "104003992           40            F       CLEMENTI AVENUE 6          3  \n",
       "103110036           20            E             HARVEY ROAD          2  "
      ]
     },
     "execution_count": 30,
     "metadata": {},
     "output_type": "execute_result"
    }
   ],
   "source": [
    "dfTSB = dfTSB.set_index('LinkID')\n",
    "dfTSB.index.name = None\n",
    "dfTSB.head()"
   ]
  },
  {
   "cell_type": "code",
   "execution_count": 6,
   "metadata": {
    "collapsed": false,
    "scrolled": true
   },
   "outputs": [
    {
     "data": {
      "text/html": [
       "<div>\n",
       "<table border=\"1\" class=\"dataframe\">\n",
       "  <thead>\n",
       "    <tr style=\"text-align: right;\">\n",
       "      <th></th>\n",
       "      <th>Location</th>\n",
       "      <th>MaximumSpeed</th>\n",
       "      <th>MinimumSpeed</th>\n",
       "      <th>RoadCategory</th>\n",
       "      <th>RoadName</th>\n",
       "      <th>SpeedBand</th>\n",
       "    </tr>\n",
       "  </thead>\n",
       "  <tbody>\n",
       "    <tr>\n",
       "      <th>103098943</th>\n",
       "      <td>1.3805895432850994 103.74201730473243 1.380040...</td>\n",
       "      <td>39</td>\n",
       "      <td>20</td>\n",
       "      <td>D</td>\n",
       "      <td>CHOA CHU KANG AVENUE 3</td>\n",
       "      <td>2</td>\n",
       "    </tr>\n",
       "    <tr>\n",
       "      <th>103076063</th>\n",
       "      <td>1.399027473240379 103.7553182996927 1.39866097...</td>\n",
       "      <td>59</td>\n",
       "      <td>40</td>\n",
       "      <td>B</td>\n",
       "      <td>WOODLANDS ROAD</td>\n",
       "      <td>3</td>\n",
       "    </tr>\n",
       "    <tr>\n",
       "      <th>103030883</th>\n",
       "      <td>1.3742439017982357 103.88529975827204 1.373869...</td>\n",
       "      <td>39</td>\n",
       "      <td>20</td>\n",
       "      <td>D</td>\n",
       "      <td>HOUGANG AVENUE 4</td>\n",
       "      <td>2</td>\n",
       "    </tr>\n",
       "    <tr>\n",
       "      <th>104003992</th>\n",
       "      <td>1.3163287378822295 103.76133268167833 1.315260...</td>\n",
       "      <td>59</td>\n",
       "      <td>40</td>\n",
       "      <td>F</td>\n",
       "      <td>CLEMENTI AVENUE 6</td>\n",
       "      <td>3</td>\n",
       "    </tr>\n",
       "    <tr>\n",
       "      <th>103110036</th>\n",
       "      <td>1.333534171783063 103.88445104036495 1.3344802...</td>\n",
       "      <td></td>\n",
       "      <td>60</td>\n",
       "      <td>E</td>\n",
       "      <td>HARVEY ROAD</td>\n",
       "      <td>4</td>\n",
       "    </tr>\n",
       "  </tbody>\n",
       "</table>\n",
       "</div>"
      ],
      "text/plain": [
       "                                                    Location MaximumSpeed  \\\n",
       "103098943  1.3805895432850994 103.74201730473243 1.380040...           39   \n",
       "103076063  1.399027473240379 103.7553182996927 1.39866097...           59   \n",
       "103030883  1.3742439017982357 103.88529975827204 1.373869...           39   \n",
       "104003992  1.3163287378822295 103.76133268167833 1.315260...           59   \n",
       "103110036  1.333534171783063 103.88445104036495 1.3344802...                \n",
       "\n",
       "          MinimumSpeed RoadCategory                RoadName  SpeedBand  \n",
       "103098943           20            D  CHOA CHU KANG AVENUE 3          2  \n",
       "103076063           40            B          WOODLANDS ROAD          3  \n",
       "103030883           20            D        HOUGANG AVENUE 4          2  \n",
       "104003992           40            F       CLEMENTI AVENUE 6          3  \n",
       "103110036           60            E             HARVEY ROAD          4  "
      ]
     },
     "execution_count": 6,
     "metadata": {},
     "output_type": "execute_result"
    }
   ],
   "source": [
    "#dfTSB2 = dfTSB#.set_index('LinkID')\n",
    "#dfTSB2.index.name = None\n",
    "dfTSB2.head()"
   ]
  },
  {
   "cell_type": "code",
   "execution_count": 31,
   "metadata": {
    "collapsed": false
   },
   "outputs": [
    {
     "data": {
      "text/html": [
       "<div>\n",
       "<table border=\"1\" class=\"dataframe\">\n",
       "  <thead>\n",
       "    <tr style=\"text-align: right;\">\n",
       "      <th></th>\n",
       "      <th></th>\n",
       "      <th>from</th>\n",
       "      <th>to</th>\n",
       "    </tr>\n",
       "    <tr>\n",
       "      <th>id</th>\n",
       "      <th>col</th>\n",
       "      <th></th>\n",
       "      <th></th>\n",
       "    </tr>\n",
       "  </thead>\n",
       "  <tbody>\n",
       "    <tr>\n",
       "      <th rowspan=\"3\" valign=\"top\">103098943</th>\n",
       "      <th>MaximumSpeed</th>\n",
       "      <td>59</td>\n",
       "      <td>39</td>\n",
       "    </tr>\n",
       "    <tr>\n",
       "      <th>MinimumSpeed</th>\n",
       "      <td>40</td>\n",
       "      <td>20</td>\n",
       "    </tr>\n",
       "    <tr>\n",
       "      <th>SpeedBand</th>\n",
       "      <td>3</td>\n",
       "      <td>2</td>\n",
       "    </tr>\n",
       "    <tr>\n",
       "      <th rowspan=\"2\" valign=\"top\">103110036</th>\n",
       "      <th>MaximumSpeed</th>\n",
       "      <td>39</td>\n",
       "      <td></td>\n",
       "    </tr>\n",
       "    <tr>\n",
       "      <th>MinimumSpeed</th>\n",
       "      <td>20</td>\n",
       "      <td>60</td>\n",
       "    </tr>\n",
       "  </tbody>\n",
       "</table>\n",
       "</div>"
      ],
      "text/plain": [
       "                       from  to\n",
       "id        col                  \n",
       "103098943 MaximumSpeed   59  39\n",
       "          MinimumSpeed   40  20\n",
       "          SpeedBand       3   2\n",
       "103110036 MaximumSpeed   39    \n",
       "          MinimumSpeed   20  60"
      ]
     },
     "execution_count": 31,
     "metadata": {},
     "output_type": "execute_result"
    }
   ],
   "source": [
    "neRows = (dfTSB != dfTSB2).any(1)\n",
    "neRows\n",
    "ne_stacked = (dfTSB != dfTSB2).stack()\n",
    "ne_stacked\n",
    "changed = ne_stacked[ne_stacked]\n",
    "changed.index.names = ['id', 'col']\n",
    "changed\n",
    "diff_loc = numpy.where(dfTSB != dfTSB2)\n",
    "changed_from = dfTSB.values[diff_loc]\n",
    "changed_to = dfTSB2.values[diff_loc]\n",
    "diff = pandas.DataFrame({'from': changed_from, 'to': changed_to}, index=changed.index)\n",
    "diff.head()"
   ]
  },
  {
   "cell_type": "code",
   "execution_count": 79,
   "metadata": {
    "collapsed": false
   },
   "outputs": [
    {
     "name": "stdout",
     "output_type": "stream",
     "text": [
      "3 2\n",
      "103098943\n",
      "1.3805895432850994 103.74201730473243 1.3800400299576012 103.74120855605975\n",
      "2 4\n",
      "103110036\n",
      "1.333534171783063 103.88445104036495 1.334480240662004 103.88423757172991\n",
      "2 3\n",
      "103089006\n",
      "1.3468683821422813 103.69025703809406 1.3466193981361332 103.6903389382926\n",
      "2 1\n",
      "103037283\n",
      "1.354538472093295 103.86279521974849 1.3554224742291467 103.863192917283\n",
      "2 4\n",
      "103070015\n",
      "1.3777681206363968 103.94139850987841 1.378867186631845 103.94152708219333\n",
      "2 3\n",
      "103031346\n",
      "1.4026080634287352 103.81525433456433 1.402689645719599 103.81640482532244\n",
      "2 4\n",
      "103026994\n",
      "1.3806647169807298 103.86241340163942 1.3815437998182825 103.86275797975088\n",
      "2 3\n",
      "103067603\n",
      "1.3155700538658663 103.76502558167256 1.3146394741932022 103.76542384414495\n",
      "3 4\n",
      "103028396\n",
      "1.354555356422381 103.98908738997977 1.3535347292627729 103.98854931143833\n",
      "3 2\n",
      "103011039\n",
      "1.2979413745180766 103.8858495015343 1.2993701686587462 103.88595357348129\n",
      "3 2\n",
      "103080426\n",
      "1.3789273339780308 103.8766121640118 1.378711751253142 103.8766364665296\n",
      "4 3\n",
      "103095079\n",
      "1.3429777888159506 103.96104006277909 1.3444529517840251 103.96148851121612\n",
      "1 3\n",
      "108002211\n",
      "1.3901340015841874 103.89627982248255 1.3902761784135231 103.89587315703142\n",
      "4 3\n",
      "103082018\n",
      "1.4395011293833984 103.7878219532999 1.4395374111765264 103.78775881717601\n"
     ]
    }
   ],
   "source": [
    "for id, row in diff.iterrows():\n",
    "    if (id[1] == 'SpeedBand'):\n",
    "        print(row['from'], row['to']) \n",
    "        print(id[0])\n",
    "        #print(dfTSB2.ix(id[0]))\n",
    "        print(dfTSB2.get_value(id[0],'Location'))"
   ]
  },
  {
   "cell_type": "code",
   "execution_count": 33,
   "metadata": {
    "collapsed": false
   },
   "outputs": [
    {
     "name": "stdout",
     "output_type": "stream",
     "text": [
      "diff\n"
     ]
    }
   ],
   "source": [
    "if(dfTSB.equals(dfTSB2)):\n",
    "    print('same')\n",
    "if not (dfTSB.equals(dfTSB2)):\n",
    "    print('diff')"
   ]
  },
  {
   "cell_type": "code",
   "execution_count": 10,
   "metadata": {
    "collapsed": false
   },
   "outputs": [],
   "source": [
    "# ESTIMATED TRAVEL TIMES data - updates every 5 minutes\n",
    "request = urllib.request.Request(uri + path_ETT, headers=headers)\n",
    "try:\n",
    "    response = urlopen(request).read().decode('utf-8')\n",
    "except HTTPError as e:\n",
    "    print (e)\n",
    "else:\n",
    "    jsonObj = json.loads(response)\n",
    "    messages = jsonObj.get(\"value\")\n",
    "    dfETT = pandas.DataFrame(messages)"
   ]
  },
  {
   "cell_type": "code",
   "execution_count": 11,
   "metadata": {
    "collapsed": false
   },
   "outputs": [
    {
     "data": {
      "text/html": [
       "<div>\n",
       "<table border=\"1\" class=\"dataframe\">\n",
       "  <thead>\n",
       "    <tr style=\"text-align: right;\">\n",
       "      <th></th>\n",
       "      <th>Direction</th>\n",
       "      <th>EndPoint</th>\n",
       "      <th>EstTime</th>\n",
       "      <th>FarEndPoint</th>\n",
       "      <th>Name</th>\n",
       "      <th>StartPoint</th>\n",
       "    </tr>\n",
       "  </thead>\n",
       "  <tbody>\n",
       "    <tr>\n",
       "      <th>0</th>\n",
       "      <td>1</td>\n",
       "      <td>TELOK BLANGAH RD</td>\n",
       "      <td>2</td>\n",
       "      <td>TUAS CHECKPOINT</td>\n",
       "      <td>AYE</td>\n",
       "      <td>AYE/MCE INTERCHANGE</td>\n",
       "    </tr>\n",
       "    <tr>\n",
       "      <th>1</th>\n",
       "      <td>1</td>\n",
       "      <td>LOWER DELTA RD</td>\n",
       "      <td>1</td>\n",
       "      <td>TUAS CHECKPOINT</td>\n",
       "      <td>AYE</td>\n",
       "      <td>TELOK BLANGAH RD</td>\n",
       "    </tr>\n",
       "  </tbody>\n",
       "</table>\n",
       "</div>"
      ],
      "text/plain": [
       "   Direction          EndPoint  EstTime      FarEndPoint Name  \\\n",
       "0          1  TELOK BLANGAH RD        2  TUAS CHECKPOINT  AYE   \n",
       "1          1    LOWER DELTA RD        1  TUAS CHECKPOINT  AYE   \n",
       "\n",
       "            StartPoint  \n",
       "0  AYE/MCE INTERCHANGE  \n",
       "1     TELOK BLANGAH RD  "
      ]
     },
     "execution_count": 11,
     "metadata": {},
     "output_type": "execute_result"
    }
   ],
   "source": [
    "dfETT.head(2)"
   ]
  },
  {
   "cell_type": "code",
   "execution_count": 59,
   "metadata": {
    "collapsed": true
   },
   "outputs": [],
   "source": [
    "# collect Traffic Incidents data - updates every 2 minutes\n",
    "request = urllib.request.Request(uri + path_TI, headers=headers)\n",
    "try:\n",
    "    response = urlopen(request).read().decode('utf-8')\n",
    "except HTTPError as e:\n",
    "    print (e)\n",
    "else:\n",
    "    jsonObj = json.loads(response)\n",
    "    messages = jsonObj.get(\"value\")\n",
    "    dfTI = pandas.DataFrame(messages)"
   ]
  },
  {
   "cell_type": "code",
   "execution_count": 60,
   "metadata": {
    "collapsed": false
   },
   "outputs": [
    {
     "data": {
      "text/html": [
       "<div>\n",
       "<table border=\"1\" class=\"dataframe\">\n",
       "  <thead>\n",
       "    <tr style=\"text-align: right;\">\n",
       "      <th></th>\n",
       "      <th>Latitude</th>\n",
       "      <th>Longitude</th>\n",
       "      <th>Message</th>\n",
       "      <th>Type</th>\n",
       "    </tr>\n",
       "  </thead>\n",
       "  <tbody>\n",
       "    <tr>\n",
       "      <th>0</th>\n",
       "      <td>1.296161</td>\n",
       "      <td>103.851726</td>\n",
       "      <td>(11/11)23:05 Roadworks on Bras Basah Road (tow...</td>\n",
       "      <td>Roadwork</td>\n",
       "    </tr>\n",
       "    <tr>\n",
       "      <th>1</th>\n",
       "      <td>1.321684</td>\n",
       "      <td>103.891215</td>\n",
       "      <td>(11/11)23:03 Roadworks on Paya Lebar Road (tow...</td>\n",
       "      <td>Roadwork</td>\n",
       "    </tr>\n",
       "    <tr>\n",
       "      <th>2</th>\n",
       "      <td>1.295772</td>\n",
       "      <td>103.851747</td>\n",
       "      <td>(11/11)22:58 Roadworks on Victoria Street (tow...</td>\n",
       "      <td>Roadwork</td>\n",
       "    </tr>\n",
       "    <tr>\n",
       "      <th>3</th>\n",
       "      <td>1.361200</td>\n",
       "      <td>103.858495</td>\n",
       "      <td>(11/11)22:58 Roadworks on CTE (towards AYE) be...</td>\n",
       "      <td>Roadwork</td>\n",
       "    </tr>\n",
       "    <tr>\n",
       "      <th>4</th>\n",
       "      <td>1.276845</td>\n",
       "      <td>103.848669</td>\n",
       "      <td>(11/11)22:49 Roadworks on Shenton Way (towards...</td>\n",
       "      <td>Roadwork</td>\n",
       "    </tr>\n",
       "  </tbody>\n",
       "</table>\n",
       "</div>"
      ],
      "text/plain": [
       "   Latitude   Longitude                                            Message  \\\n",
       "0  1.296161  103.851726  (11/11)23:05 Roadworks on Bras Basah Road (tow...   \n",
       "1  1.321684  103.891215  (11/11)23:03 Roadworks on Paya Lebar Road (tow...   \n",
       "2  1.295772  103.851747  (11/11)22:58 Roadworks on Victoria Street (tow...   \n",
       "3  1.361200  103.858495  (11/11)22:58 Roadworks on CTE (towards AYE) be...   \n",
       "4  1.276845  103.848669  (11/11)22:49 Roadworks on Shenton Way (towards...   \n",
       "\n",
       "       Type  \n",
       "0  Roadwork  \n",
       "1  Roadwork  \n",
       "2  Roadwork  \n",
       "3  Roadwork  \n",
       "4  Roadwork  "
      ]
     },
     "execution_count": 60,
     "metadata": {},
     "output_type": "execute_result"
    }
   ],
   "source": [
    "dfTI.head()"
   ]
  },
  {
   "cell_type": "code",
   "execution_count": 49,
   "metadata": {
    "collapsed": false
   },
   "outputs": [
    {
     "data": {
      "text/html": [
       "<div>\n",
       "<table border=\"1\" class=\"dataframe\">\n",
       "  <thead>\n",
       "    <tr style=\"text-align: right;\">\n",
       "      <th></th>\n",
       "      <th>Latitude</th>\n",
       "      <th>Longitude</th>\n",
       "      <th>Message</th>\n",
       "      <th>Type</th>\n",
       "    </tr>\n",
       "  </thead>\n",
       "  <tbody>\n",
       "    <tr>\n",
       "      <th>0</th>\n",
       "      <td>1.294434</td>\n",
       "      <td>103.866525</td>\n",
       "      <td>(11/11)21:39 Roadworks on ECP (towards Changi ...</td>\n",
       "      <td>Roadwork</td>\n",
       "    </tr>\n",
       "    <tr>\n",
       "      <th>1</th>\n",
       "      <td>1.277375</td>\n",
       "      <td>103.848986</td>\n",
       "      <td>(11/11)21:38 Roadworks on Shenton Way (towards...</td>\n",
       "      <td>Roadwork</td>\n",
       "    </tr>\n",
       "    <tr>\n",
       "      <th>2</th>\n",
       "      <td>1.296506</td>\n",
       "      <td>103.850972</td>\n",
       "      <td>(11/11)21:35 Roadworks on Stamford Road (towar...</td>\n",
       "      <td>Roadwork</td>\n",
       "    </tr>\n",
       "    <tr>\n",
       "      <th>3</th>\n",
       "      <td>1.321425</td>\n",
       "      <td>103.856028</td>\n",
       "      <td>(11/11)21:28 Heavy Traffic on CTE (towards SLE...</td>\n",
       "      <td>Heavy Traffic</td>\n",
       "    </tr>\n",
       "    <tr>\n",
       "      <th>4</th>\n",
       "      <td>1.313303</td>\n",
       "      <td>103.874861</td>\n",
       "      <td>(11/11)21:27 Roadworks on Sims Way near Sims A...</td>\n",
       "      <td>Roadwork</td>\n",
       "    </tr>\n",
       "  </tbody>\n",
       "</table>\n",
       "</div>"
      ],
      "text/plain": [
       "   Latitude   Longitude                                            Message  \\\n",
       "0  1.294434  103.866525  (11/11)21:39 Roadworks on ECP (towards Changi ...   \n",
       "1  1.277375  103.848986  (11/11)21:38 Roadworks on Shenton Way (towards...   \n",
       "2  1.296506  103.850972  (11/11)21:35 Roadworks on Stamford Road (towar...   \n",
       "3  1.321425  103.856028  (11/11)21:28 Heavy Traffic on CTE (towards SLE...   \n",
       "4  1.313303  103.874861  (11/11)21:27 Roadworks on Sims Way near Sims A...   \n",
       "\n",
       "            Type  \n",
       "0       Roadwork  \n",
       "1       Roadwork  \n",
       "2       Roadwork  \n",
       "3  Heavy Traffic  \n",
       "4       Roadwork  "
      ]
     },
     "execution_count": 49,
     "metadata": {},
     "output_type": "execute_result"
    }
   ],
   "source": [
    "#dfTI2 = dfTI\n",
    "dfTI2.head()"
   ]
  },
  {
   "cell_type": "code",
   "execution_count": 107,
   "metadata": {
    "collapsed": false,
    "scrolled": false
   },
   "outputs": [
    {
     "name": "stdout",
     "output_type": "stream",
     "text": [
      "23:05 Roadworks on Bras Basah Road (towards Raffles Boulevard) after Prinsep Street\n",
      "23:03 Roadworks on Paya Lebar Road (towards Jalan Afifi) after PIE\n",
      "22:58 Roadworks on Victoria Street (towards Bras Basah Road) after Stamford Road\n",
      "22:58 Roadworks on CTE (towards AYE) before AMK Ave \n",
      "22:49 Roadworks on Shenton Way (towards Shenton Way) after Central Boulevard\n",
      "22:48 Roadworks on ECP (towards City) after Rochor Rd Exit\n",
      "22:40 Heavy Traffic on CTE (towards SLE) between PIE(Changi) Exit and AMK Ave \n",
      "22:37 Roadworks on Grange Road (towards Orchard Boulevard) after Cuscaden Road\n",
      "22:35 Roadworks on Changi South Avenue \n",
      "22:33 Roadworks on PIE (towards Changi Airport) after Stevens Rd Exit\n",
      "22:31 Roadworks on Cairnhill Circle near Cairnhill Circle\n",
      "22:29 Roadworks on Collyer Quay (towards Shenton Way) after Fullerton Road\n",
      "22:29 Roadworks on PIE (towards Changi Airport) at Tampines Ave \n",
      "22:29 Roadworks on Collyer Quay (towards Guillemard) after Marina Boulevard\n"
     ]
    }
   ],
   "source": [
    "diffTI = pandas.concat([dfTI, dfTI2, dfTI2]).drop_duplicates(keep=False)\n",
    "#print(diffTI)\n",
    "#print(datetime.now().strftime(\"%H:%M\") + \" TRAFFIC INCIDENCE\")\n",
    "patternTime = re.compile('[0-9]+:[0-9]+')\n",
    "patternMsg = re.compile('^\\([0-9]+/[0-9]+\\)[0-9]+:[0-9]+([A-Za-z ()]+)')\n",
    "for id, row in diffTI.iterrows():\n",
    "    #print(row['Message'])\n",
    "    print(patternTime.findall(row['Message'])[0] + patternMsg.findall(row['Message'])[0])"
   ]
  },
  {
   "cell_type": "code",
   "execution_count": 111,
   "metadata": {
    "collapsed": false
   },
   "outputs": [],
   "source": [
    "# collect Nowcast data - updates every 30 mins\n",
    "request = urllib.request.Request(urlNowcast)\n",
    "try:\n",
    "    parsed = objectify.parse(urlopen(request))\n",
    "except HTTPError as e:\n",
    "    print (e)\n",
    "else:\n",
    "    parsed = objectify.parse(urlopen(request))\n",
    "    root = parsed.getroot()\n",
    "    dfNowcast = pandas.DataFrame(columns=['Forecast', 'Latitude', 'Longitude', 'Name'])\n",
    "    for area in root.iter('area'):\n",
    "        dfNowcast = dfNowcast.append({'Forecast':area.get('forecast'),'Latitude':area.get('lat'),'Longitude':area.get('lon'),'Name':area.get('name')}, ignore_index=True)"
   ]
  },
  {
   "cell_type": "code",
   "execution_count": 112,
   "metadata": {
    "collapsed": false
   },
   "outputs": [
    {
     "data": {
      "text/html": [
       "<div>\n",
       "<table border=\"1\" class=\"dataframe\">\n",
       "  <thead>\n",
       "    <tr style=\"text-align: right;\">\n",
       "      <th></th>\n",
       "      <th>Forecast</th>\n",
       "      <th>Latitude</th>\n",
       "      <th>Longitude</th>\n",
       "      <th>Name</th>\n",
       "    </tr>\n",
       "  </thead>\n",
       "  <tbody>\n",
       "    <tr>\n",
       "      <th>0</th>\n",
       "      <td>FA</td>\n",
       "      <td>1.37500000</td>\n",
       "      <td>103.83900000</td>\n",
       "      <td>Ang Mo Kio</td>\n",
       "    </tr>\n",
       "    <tr>\n",
       "      <th>1</th>\n",
       "      <td>FA</td>\n",
       "      <td>1.32100000</td>\n",
       "      <td>103.92400000</td>\n",
       "      <td>Bedok</td>\n",
       "    </tr>\n",
       "  </tbody>\n",
       "</table>\n",
       "</div>"
      ],
      "text/plain": [
       "  Forecast    Latitude     Longitude        Name\n",
       "0       FA  1.37500000  103.83900000  Ang Mo Kio\n",
       "1       FA  1.32100000  103.92400000       Bedok"
      ]
     },
     "execution_count": 112,
     "metadata": {},
     "output_type": "execute_result"
    }
   ],
   "source": [
    "dfNowcast.head(2)"
   ]
  },
  {
   "cell_type": "code",
   "execution_count": 113,
   "metadata": {
    "collapsed": false
   },
   "outputs": [
    {
     "name": "stdout",
     "output_type": "stream",
     "text": [
      "            Forecast    Latitude     Longitude\n",
      "Ang Mo Kio        FA  1.37500000  103.83900000\n",
      "Bedok             FA  1.32100000  103.92400000\n",
      "Bishan            FA  1.35077200  103.83900000\n",
      "Boon Lay          FA  1.30400000  103.70100000\n",
      "Bukit Batok       FA  1.35300000  103.75400000\n"
     ]
    }
   ],
   "source": [
    "dfNowc = dfNowcast.set_index('Name')\n",
    "dfNowc.index.name = None\n",
    "print(dfNowc.head())"
   ]
  },
  {
   "cell_type": "code",
   "execution_count": 110,
   "metadata": {
    "collapsed": false
   },
   "outputs": [
    {
     "data": {
      "text/html": [
       "<div>\n",
       "<table border=\"1\" class=\"dataframe\">\n",
       "  <thead>\n",
       "    <tr style=\"text-align: right;\">\n",
       "      <th></th>\n",
       "      <th>Forecast</th>\n",
       "      <th>Latitude</th>\n",
       "      <th>Longitude</th>\n",
       "    </tr>\n",
       "  </thead>\n",
       "  <tbody>\n",
       "    <tr>\n",
       "      <th>Ang Mo Kio</th>\n",
       "      <td>CL</td>\n",
       "      <td>1.37500000</td>\n",
       "      <td>103.83900000</td>\n",
       "    </tr>\n",
       "    <tr>\n",
       "      <th>Bedok</th>\n",
       "      <td>CL</td>\n",
       "      <td>1.32100000</td>\n",
       "      <td>103.92400000</td>\n",
       "    </tr>\n",
       "    <tr>\n",
       "      <th>Bishan</th>\n",
       "      <td>CL</td>\n",
       "      <td>1.35077200</td>\n",
       "      <td>103.83900000</td>\n",
       "    </tr>\n",
       "  </tbody>\n",
       "</table>\n",
       "</div>"
      ],
      "text/plain": [
       "           Forecast    Latitude     Longitude\n",
       "Ang Mo Kio       CL  1.37500000  103.83900000\n",
       "Bedok            CL  1.32100000  103.92400000\n",
       "Bishan           CL  1.35077200  103.83900000"
      ]
     },
     "execution_count": 110,
     "metadata": {},
     "output_type": "execute_result"
    }
   ],
   "source": [
    "#dfNowc2 = dfNowc\n",
    "dfNowc.head(3)"
   ]
  },
  {
   "cell_type": "code",
   "execution_count": 109,
   "metadata": {
    "collapsed": false
   },
   "outputs": [],
   "source": [
    "for id, row in dfNowc.iterrows():\n",
    "    if (row['Forecast'] == \"HR\"):\n",
    "        print (\"Heavy Rain Forecast in \" + id)"
   ]
  },
  {
   "cell_type": "code",
   "execution_count": 114,
   "metadata": {
    "collapsed": false
   },
   "outputs": [
    {
     "data": {
      "text/html": [
       "<div>\n",
       "<table border=\"1\" class=\"dataframe\">\n",
       "  <thead>\n",
       "    <tr style=\"text-align: right;\">\n",
       "      <th></th>\n",
       "      <th></th>\n",
       "      <th>from</th>\n",
       "      <th>to</th>\n",
       "    </tr>\n",
       "    <tr>\n",
       "      <th>id</th>\n",
       "      <th>col</th>\n",
       "      <th></th>\n",
       "      <th></th>\n",
       "    </tr>\n",
       "  </thead>\n",
       "  <tbody>\n",
       "    <tr>\n",
       "      <th>Ang Mo Kio</th>\n",
       "      <th>Forecast</th>\n",
       "      <td>FA</td>\n",
       "      <td>CL</td>\n",
       "    </tr>\n",
       "    <tr>\n",
       "      <th>Bedok</th>\n",
       "      <th>Forecast</th>\n",
       "      <td>FA</td>\n",
       "      <td>CL</td>\n",
       "    </tr>\n",
       "    <tr>\n",
       "      <th>Bishan</th>\n",
       "      <th>Forecast</th>\n",
       "      <td>FA</td>\n",
       "      <td>CL</td>\n",
       "    </tr>\n",
       "    <tr>\n",
       "      <th>Boon Lay</th>\n",
       "      <th>Forecast</th>\n",
       "      <td>FA</td>\n",
       "      <td>CL</td>\n",
       "    </tr>\n",
       "    <tr>\n",
       "      <th>Bukit Batok</th>\n",
       "      <th>Forecast</th>\n",
       "      <td>FA</td>\n",
       "      <td>CL</td>\n",
       "    </tr>\n",
       "  </tbody>\n",
       "</table>\n",
       "</div>"
      ],
      "text/plain": [
       "                     from  to\n",
       "id          col              \n",
       "Ang Mo Kio  Forecast   FA  CL\n",
       "Bedok       Forecast   FA  CL\n",
       "Bishan      Forecast   FA  CL\n",
       "Boon Lay    Forecast   FA  CL\n",
       "Bukit Batok Forecast   FA  CL"
      ]
     },
     "execution_count": 114,
     "metadata": {},
     "output_type": "execute_result"
    }
   ],
   "source": [
    "neRows = (dfNowc != dfNowc2).any(1)\n",
    "ne_stacked = (dfNowc != dfNowc2).stack()\n",
    "changed = ne_stacked[ne_stacked]\n",
    "changed.index.names = ['id', 'col']\n",
    "diff_loc = numpy.where(dfNowc != dfNowc2)\n",
    "changed_from = dfNowc.values[diff_loc]\n",
    "changed_to = dfNowc2.values[diff_loc]\n",
    "diff = pandas.DataFrame({'from': changed_from, 'to': changed_to}, index=changed.index)\n",
    "diff.head()"
   ]
  },
  {
   "cell_type": "code",
   "execution_count": 119,
   "metadata": {
    "collapsed": false
   },
   "outputs": [
    {
     "name": "stdout",
     "output_type": "stream",
     "text": [
      "Heavy Rain Forecast in Ang Mo Kio\n",
      "Heavy Rain Forecast in Bedok\n",
      "Heavy Rain Forecast in Bishan\n",
      "Heavy Rain Forecast in Boon Lay\n",
      "Heavy Rain Forecast in Bukit Batok\n",
      "Heavy Rain Forecast in Bukit Merah\n",
      "Heavy Rain Forecast in Bukit Panjang\n",
      "Heavy Rain Forecast in Bukit Timah\n",
      "Heavy Rain Forecast in Central Water Catchment\n",
      "Heavy Rain Forecast in Changi\n",
      "Heavy Rain Forecast in Choa Chu Kang\n",
      "Heavy Rain Forecast in Clementi\n",
      "Heavy Rain Forecast in City\n",
      "Heavy Rain Forecast in Geylang\n",
      "Heavy Rain Forecast in Hougang\n",
      "Heavy Rain Forecast in Jalan Bahar\n",
      "Heavy Rain Forecast in Jurong East\n",
      "Heavy Rain Forecast in Jurong Island\n",
      "Heavy Rain Forecast in Jurong West\n",
      "Heavy Rain Forecast in Kallang\n",
      "Heavy Rain Forecast in Lim Chu Kang\n",
      "Heavy Rain Forecast in Mandai\n",
      "Heavy Rain Forecast in Marine Parade\n",
      "Heavy Rain Forecast in Novena\n",
      "Heavy Rain Forecast in Pasir Ris\n",
      "Heavy Rain Forecast in Paya Lebar\n",
      "Heavy Rain Forecast in Pioneer\n",
      "Heavy Rain Forecast in Pulau Tekong\n",
      "Heavy Rain Forecast in Pulau Ubin\n",
      "Heavy Rain Forecast in Punggol\n",
      "Heavy Rain Forecast in Queenstown\n",
      "Heavy Rain Forecast in Seletar\n",
      "Heavy Rain Forecast in Sembawang\n",
      "Heavy Rain Forecast in Sengkang\n",
      "Heavy Rain Forecast in Sentosa\n",
      "Heavy Rain Forecast in Serangoon\n",
      "Heavy Rain Forecast in Southern Islands\n",
      "Heavy Rain Forecast in Sungei Kadut\n",
      "Heavy Rain Forecast in Tampines\n",
      "Heavy Rain Forecast in Tanglin\n",
      "Heavy Rain Forecast in Tengah\n",
      "Heavy Rain Forecast in Toa Payoh\n",
      "Heavy Rain Forecast in Tuas\n",
      "Heavy Rain Forecast in Western Islands\n",
      "Heavy Rain Forecast in Western Water Catchment\n",
      "Heavy Rain Forecast in Woodlands\n",
      "Heavy Rain Forecast in Yishun\n"
     ]
    }
   ],
   "source": [
    "for id, row in diff.iterrows():\n",
    "    if (row['from'] == \"FA\"):\n",
    "        print (\"Heavy Rain Forecast in \" + id[0])"
   ]
  },
  {
   "cell_type": "code",
   "execution_count": 17,
   "metadata": {
    "collapsed": false
   },
   "outputs": [],
   "source": [
    "# collect Heavy Rain Warning data - updates every hour\n",
    "request = urllib.request.Request(urlWarning)\n",
    "try:\n",
    "    parsed = objectify.parse(urlopen(request))\n",
    "except HTTPError as e:\n",
    "    print (e)\n",
    "else:\n",
    "    parsed = objectify.parse(urlopen(request))\n",
    "    root = parsed.getroot()\n",
    "    HRWmsg = root.item.warning.text\n",
    "    HRWmsg = HRWmsg.strip()\n",
    "    HRWtime = root.item.issue_datentime.text\n",
    "    HRWtime = HRWtime.strip()"
   ]
  },
  {
   "cell_type": "code",
   "execution_count": 18,
   "metadata": {
    "collapsed": false
   },
   "outputs": [
    {
     "name": "stdout",
     "output_type": "stream",
     "text": [
      "No warnings\n"
     ]
    }
   ],
   "source": [
    "if('NIL' in HRWmsg):\n",
    "    print('No warnings')\n",
    "else:\n",
    "    print(HRWmsg)"
   ]
  },
  {
   "cell_type": "code",
   "execution_count": 100,
   "metadata": {
    "collapsed": false
   },
   "outputs": [],
   "source": [
    "# collect Rainfall data - updates every 10 mins\n",
    "driver = webdriver.PhantomJS(executable_path='../bin/phantomjs')\n",
    "try:\n",
    "    driver.get(urlRainfall)\n",
    "except HTTPError as e:\n",
    "    print (e)\n",
    "else:\n",
    "    # wait for page load\n",
    "    time.sleep(2)\n",
    "    html30mins = driver.page_source\n",
    "    bsObj = BeautifulSoup(html30mins,\"lxml\")\n",
    "    # Get data timestamp\n",
    "    element = bsObj.find(\"img\", {\"id\":\"basemap\"})\n",
    "    pattern = re.compile('[0-9]+:[0-9]+')\n",
    "    rainfallTimestamp = pattern.findall(element.attrs['src'])[0]\n",
    "    # load 30 mins rainfall data\n",
    "    dataset30mins =  bsObj.findAll(\"\",{\"class\":\"sgr\"})\n",
    "    dfRainfall = pandas.DataFrame(columns=['StationId', 'rain30mins', 'Station'])\n",
    "    for data in dataset30mins:\n",
    "        station = patternStation.findall(data.get('data-content'))\n",
    "        dfRainfall = dfRainfall.append({'StationId':data.get('id'), 'rain30mins':data.get_text(), 'Station':station[0]},ignore_index=True)"
   ]
  },
  {
   "cell_type": "code",
   "execution_count": 101,
   "metadata": {
    "collapsed": false
   },
   "outputs": [
    {
     "data": {
      "text/html": [
       "<div>\n",
       "<table border=\"1\" class=\"dataframe\">\n",
       "  <thead>\n",
       "    <tr style=\"text-align: right;\">\n",
       "      <th></th>\n",
       "      <th>StationId</th>\n",
       "      <th>rain30mins</th>\n",
       "      <th>Station</th>\n",
       "    </tr>\n",
       "  </thead>\n",
       "  <tbody>\n",
       "    <tr>\n",
       "      <th>0</th>\n",
       "      <td>S07</td>\n",
       "      <td>0</td>\n",
       "      <td>Macritchie Reservoir</td>\n",
       "    </tr>\n",
       "    <tr>\n",
       "      <th>1</th>\n",
       "      <td>S08</td>\n",
       "      <td>0</td>\n",
       "      <td>Lower Peirce Reservoir</td>\n",
       "    </tr>\n",
       "  </tbody>\n",
       "</table>\n",
       "</div>"
      ],
      "text/plain": [
       "  StationId rain30mins                 Station\n",
       "0       S07          0    Macritchie Reservoir\n",
       "1       S08          0  Lower Peirce Reservoir"
      ]
     },
     "execution_count": 101,
     "metadata": {},
     "output_type": "execute_result"
    }
   ],
   "source": [
    "dfRainfall.head(2)"
   ]
  },
  {
   "cell_type": "code",
   "execution_count": 102,
   "metadata": {
    "collapsed": false
   },
   "outputs": [
    {
     "data": {
      "text/html": [
       "<div>\n",
       "<table border=\"1\" class=\"dataframe\">\n",
       "  <thead>\n",
       "    <tr style=\"text-align: right;\">\n",
       "      <th></th>\n",
       "      <th>rain30mins</th>\n",
       "      <th>Station</th>\n",
       "    </tr>\n",
       "  </thead>\n",
       "  <tbody>\n",
       "    <tr>\n",
       "      <th>S07</th>\n",
       "      <td>0</td>\n",
       "      <td>Macritchie Reservoir</td>\n",
       "    </tr>\n",
       "    <tr>\n",
       "      <th>S08</th>\n",
       "      <td>0</td>\n",
       "      <td>Lower Peirce Reservoir</td>\n",
       "    </tr>\n",
       "    <tr>\n",
       "      <th>S101</th>\n",
       "      <td>0</td>\n",
       "      <td>Jurong (North)</td>\n",
       "    </tr>\n",
       "    <tr>\n",
       "      <th>S104</th>\n",
       "      <td>0</td>\n",
       "      <td>Admiralty</td>\n",
       "    </tr>\n",
       "    <tr>\n",
       "      <th>S106</th>\n",
       "      <td>0</td>\n",
       "      <td>Pulau Ubin</td>\n",
       "    </tr>\n",
       "  </tbody>\n",
       "</table>\n",
       "</div>"
      ],
      "text/plain": [
       "     rain30mins                 Station\n",
       "S07           0    Macritchie Reservoir\n",
       "S08           0  Lower Peirce Reservoir\n",
       "S101          0          Jurong (North)\n",
       "S104          0               Admiralty\n",
       "S106          0              Pulau Ubin"
      ]
     },
     "execution_count": 102,
     "metadata": {},
     "output_type": "execute_result"
    }
   ],
   "source": [
    "dfRain = dfRainfall.set_index('StationId')\n",
    "dfRain.index.name = None\n",
    "dfRain.ix['S113']\n",
    "dfRain.head()"
   ]
  },
  {
   "cell_type": "code",
   "execution_count": 104,
   "metadata": {
    "collapsed": false
   },
   "outputs": [],
   "source": [
    "for id, row in dfRain.iterrows():\n",
    "    if (float(row['rain30mins']) > 7.5):\n",
    "        print (\"Heavy Rain in \" + row['Station'] + \", drive carefully.\")"
   ]
  },
  {
   "cell_type": "code",
   "execution_count": 99,
   "metadata": {
    "collapsed": false
   },
   "outputs": [
    {
     "name": "stdout",
     "output_type": "stream",
     "text": [
      "['Macritchie Reservoir']\n",
      "['Lower Peirce Reservoir']\n",
      "['Jurong (North)']\n",
      "['Admiralty']\n",
      "['Pulau Ubin']\n",
      "['East Coast Parkway']\n",
      "['Marina Barrage']\n",
      "['Ang Mo Kio']\n",
      "['Choa Chu Kang (West)']\n",
      "['Serangoon North']\n",
      "['Lim Chu Kang']\n",
      "['Marine Parade']\n",
      "['Choa Chu Kang (Central)']\n",
      "['Tuas South']\n",
      "['Pasir Panjang']\n",
      "['Jurong Island']\n",
      "['Dhoby Ghaut']\n",
      "['Nicoll Highway']\n",
      "['Botanic Garden']\n",
      "['Choa Chu Kang (South)']\n",
      "['Khatib']\n",
      "['Whampoa']\n",
      "['Changi']\n",
      "['Jurong Pier']\n",
      "['Ulu Pandan']\n",
      "['Mandai']\n",
      "['Tai Seng']\n",
      "['Jurong (West)']\n",
      "['Upper Thomson']\n",
      "['Clementi']\n",
      "['Buangkok']\n",
      "['Sentosa Island']\n",
      "['Chai Chee']\n",
      "['Boon Lay (West)']\n",
      "['Bukit Panjang']\n",
      "['Kranji Reservoir']\n",
      "['Upper Peirce Reservoir']\n",
      "['Kent Ridge']\n",
      "['Queenstown']\n",
      "['Tanjong Katong']\n",
      "['Somerset (Road)']\n",
      "['Punggol']\n",
      "['Simei']\n",
      "['Toa Payoh']\n",
      "['Tuas']\n",
      "['Bukit Timah']\n",
      "['Yishun']\n",
      "['Buona Vista']\n",
      "['Pasir Ris (Central)']\n"
     ]
    }
   ],
   "source": [
    "#for data in dataset30mins:\n",
    "#        dfRainfall = dfRainfall.append({'StationId':data.get('id'), 'rain30mins':data.get_text()},ignore_index=True)\n",
    "patternStation = re.compile('<strong>([A-Za-z ()]+)</strong>')\n",
    "#Stations = patternStation.findall(element.attrs['src'])[0]\n",
    "for data in dataset30mins:\n",
    "    Station = patternStation.findall(data.get('data-content'))\n",
    "    print(Station)\n",
    "#print(Stations[0])"
   ]
  },
  {
   "cell_type": "code",
   "execution_count": null,
   "metadata": {
    "collapsed": true
   },
   "outputs": [],
   "source": []
  }
 ],
 "metadata": {
  "anaconda-cloud": {},
  "kernelspec": {
   "display_name": "Python [conda root]",
   "language": "python",
   "name": "conda-root-py"
  },
  "language_info": {
   "codemirror_mode": {
    "name": "ipython",
    "version": 3
   },
   "file_extension": ".py",
   "mimetype": "text/x-python",
   "name": "python",
   "nbconvert_exporter": "python",
   "pygments_lexer": "ipython3",
   "version": "3.5.2"
  }
 },
 "nbformat": 4,
 "nbformat_minor": 0
}
