{
 "cells": [
  {
   "cell_type": "code",
   "execution_count": 37,
   "metadata": {
    "collapsed": false
   },
   "outputs": [],
   "source": [
    "import json\n",
    "import csv\n",
    "\n",
    "from SVY21 import *\n",
    "cv = SVY21()\n"
   ]
  },
  {
   "cell_type": "code",
   "execution_count": 27,
   "metadata": {
    "collapsed": false,
    "scrolled": true
   },
   "outputs": [
    {
     "data": {
      "text/plain": [
       "[{u'X_ADDR': u'30490', u'Y_ADDR': u'31430', u'ZONEID': u'BMC'},\n",
       " {u'X_ADDR': u'32450', u'Y_ADDR': u'32120', u'ZONEID': u'NIC'},\n",
       " {u'X_ADDR': u'28756', u'Y_ADDR': u'29220', u'ZONEID': u'CBD'},\n",
       " {u'X_ADDR': u'28180', u'Y_ADDR': u'31448', u'ZONEID': u'OC1'},\n",
       " {u'X_ADDR': u'28960', u'Y_ADDR': u'28440', u'ZONEID': u'CBD'},\n",
       " {u'X_ADDR': u'29240', u'Y_ADDR': u'28430', u'ZONEID': u'CBD'},\n",
       " {u'X_ADDR': u'29090', u'Y_ADDR': u'28400', u'ZONEID': u'CBD'},\n",
       " {u'X_ADDR': u'29690', u'Y_ADDR': u'28560', u'ZONEID': u'CBD'},\n",
       " {u'X_ADDR': u'30240', u'Y_ADDR': u'31660', u'ZONEID': u'BMC'},\n",
       " {u'X_ADDR': u'30410', u'Y_ADDR': u'31520', u'ZONEID': u'BMC'},\n",
       " {u'X_ADDR': u'30580', u'Y_ADDR': u'31340', u'ZONEID': u'BMC'},\n",
       " {u'X_ADDR': u'28900', u'Y_ADDR': u'31280', u'ZONEID': u'OC1'},\n",
       " {u'X_ADDR': u'27880', u'Y_ADDR': u'31900', u'ZONEID': u'OC1'},\n",
       " {u'X_ADDR': u'27890', u'Y_ADDR': u'31730', u'ZONEID': u'OC1'},\n",
       " {u'X_ADDR': u'28730', u'Y_ADDR': u'31330', u'ZONEID': u'OC1'},\n",
       " {u'X_ADDR': u'30720', u'Y_ADDR': u'31160', u'ZONEID': u'BMC'},\n",
       " {u'X_ADDR': u'30970', u'Y_ADDR': u'30940', u'ZONEID': u'BMC'},\n",
       " {u'X_ADDR': u'31160', u'Y_ADDR': u'31000', u'ZONEID': u'BMC'},\n",
       " {u'X_ADDR': u'28920', u'Y_ADDR': u'30090', u'ZONEID': u'CBD'},\n",
       " {u'X_ADDR': u'28990', u'Y_ADDR': u'30030', u'ZONEID': u'CBD'},\n",
       " {u'X_ADDR': u'29100', u'Y_ADDR': u'31440', u'ZONEID': u'OC1'},\n",
       " {u'X_ADDR': u'28970', u'Y_ADDR': u'31550', u'ZONEID': u'OC1'},\n",
       " {u'X_ADDR': u'29180', u'Y_ADDR': u'30600', u'ZONEID': u'BMC'},\n",
       " {u'X_ADDR': u'29020', u'Y_ADDR': u'30260', u'ZONEID': u'CBD'},\n",
       " {u'X_ADDR': u'29190', u'Y_ADDR': u'30160', u'ZONEID': u'CBD'},\n",
       " {u'X_ADDR': u'29160', u'Y_ADDR': u'31130', u'ZONEID': u'OC1'},\n",
       " {u'X_ADDR': u'28460', u'Y_ADDR': u'32000', u'ZONEID': u'OC1'},\n",
       " {u'X_ADDR': u'31680', u'Y_ADDR': u'31840', u'ZONEID': u'BMC'},\n",
       " {u'X_ADDR': u'31110', u'Y_ADDR': u'30860', u'ZONEID': u'EC2'},\n",
       " {u'X_ADDR': u'33400', u'Y_ADDR': u'30886', u'ZONEID': u'EC1'},\n",
       " {u'X_ADDR': u'31226', u'Y_ADDR': u'35110', u'ZONEID': u'CT1'},\n",
       " {u'X_ADDR': u'32120', u'Y_ADDR': u'34300', u'ZONEID': u'PE1'},\n",
       " {u'X_ADDR': u'31478', u'Y_ADDR': u'34591', u'ZONEID': u'CT1'},\n",
       " {u'X_ADDR': u'30090', u'Y_ADDR': u'33410', u'ZONEID': u'CT1'},\n",
       " {u'X_ADDR': u'30869', u'Y_ADDR': u'36615', u'ZONEID': u'CT4'},\n",
       " {u'X_ADDR': u'23810', u'Y_ADDR': u'29980', u'ZONEID': u'AY1'},\n",
       " {u'X_ADDR': u'26510', u'Y_ADDR': u'34760', u'ZONEID': u'PE2'},\n",
       " {u'X_ADDR': u'27460', u'Y_ADDR': u'34420', u'ZONEID': u'PE2'},\n",
       " {u'X_ADDR': u'28450', u'Y_ADDR': u'35500', u'ZONEID': u'THM'},\n",
       " {u'X_ADDR': u'31900', u'Y_ADDR': u'34400', u'ZONEID': u'OR1'},\n",
       " {u'X_ADDR': u'31870', u'Y_ADDR': u'32440', u'ZONEID': u'KAL'},\n",
       " {u'X_ADDR': u'31483', u'Y_ADDR': u'34580', u'ZONEID': u'PE3'},\n",
       " {u'X_ADDR': u'26940', u'Y_ADDR': u'33750', u'ZONEID': u'DZ1'},\n",
       " {u'X_ADDR': u'27110', u'Y_ADDR': u'33710', u'ZONEID': u'DZ1'},\n",
       " {u'X_ADDR': u'32400', u'Y_ADDR': u'33950', u'ZONEID': u'PE1'},\n",
       " {u'X_ADDR': u'31210', u'Y_ADDR': u'35000', u'ZONEID': u'CT5'},\n",
       " {u'X_ADDR': u'29630', u'Y_ADDR': u'31160', u'ZONEID': u'OC2'},\n",
       " {u'X_ADDR': u'29610', u'Y_ADDR': u'31230', u'ZONEID': u'OC3'},\n",
       " {u'X_ADDR': u'29460', u'Y_ADDR': u'31120', u'ZONEID': u'OC2'},\n",
       " {u'X_ADDR': u'30122', u'Y_ADDR': u'28952', u'ZONEID': u'CBD'},\n",
       " {u'X_ADDR': u'31020', u'Y_ADDR': u'34260', u'ZONEID': u'CT6'},\n",
       " {u'X_ADDR': u'31150', u'Y_ADDR': u'30810', u'ZONEID': u'EC3'},\n",
       " {u'X_ADDR': u'31121', u'Y_ADDR': u'29718', u'ZONEID': u'EC3'},\n",
       " {u'X_ADDR': u'22940', u'Y_ADDR': u'37290', u'ZONEID': u'BKE'},\n",
       " {u'X_ADDR': u'20870', u'Y_ADDR': u'37400', u'ZONEID': u'UBT'},\n",
       " {u'X_ADDR': u'30230', u'Y_ADDR': u'35880', u'ZONEID': u'TPZ'},\n",
       " {u'X_ADDR': u'32400', u'Y_ADDR': u'33800', u'ZONEID': u'KBZ'},\n",
       " {u'X_ADDR': u'32280', u'Y_ADDR': u'33590', u'ZONEID': u'GBZ'},\n",
       " {u'X_ADDR': u'32130', u'Y_ADDR': u'32880', u'ZONEID': u'BKZ'},\n",
       " {u'X_ADDR': u'29580', u'Y_ADDR': u'30200', u'ZONEID': u'SR2'},\n",
       " {u'X_ADDR': u'29600', u'Y_ADDR': u'30180', u'ZONEID': u'SR1'},\n",
       " {u'X_ADDR': u'29730', u'Y_ADDR': u'30080', u'ZONEID': u'SR1'},\n",
       " {u'X_ADDR': u'30260', u'Y_ADDR': u'29840', u'ZONEID': u'SR2'},\n",
       " {u'X_ADDR': u'30270', u'Y_ADDR': u'29830', u'ZONEID': u'SR1'},\n",
       " {u'X_ADDR': u'36720', u'Y_ADDR': u'34530', u'ZONEID': u'PE4'},\n",
       " {u'X_ADDR': u'32640', u'Y_ADDR': u'30680', u'ZONEID': u'KP1'},\n",
       " {u'X_ADDR': u'31040', u'Y_ADDR': u'29710', u'ZONEID': u'SR2'},\n",
       " {u'X_ADDR': u'31180', u'Y_ADDR': u'35090', u'ZONEID': u'CT5'},\n",
       " {u'X_ADDR': u'31249', u'Y_ADDR': u'35110', u'ZONEID': u'CT2'},\n",
       " {u'X_ADDR': u'31061', u'Y_ADDR': u'29709', u'ZONEID': u'SR1'},\n",
       " {u'X_ADDR': u'30325', u'Y_ADDR': u'28693', u'ZONEID': u'CBD'},\n",
       " {u'X_ADDR': u'31868', u'Y_ADDR': u'34236', u'ZONEID': u'OR1'}]"
      ]
     },
     "execution_count": 27,
     "metadata": {},
     "output_type": "execute_result"
    }
   ],
   "source": [
    "with open('ERP_zoneid.txt') as json_data:\n",
    "    r = json.load(json_data)\n",
    "    \n",
    "gantries = r['SERVICESINFO'][0]['ERPINFO'][1:]\n",
    "gantries\n"
   ]
  },
  {
   "cell_type": "code",
   "execution_count": 33,
   "metadata": {
    "collapsed": false
   },
   "outputs": [
    {
     "data": {
      "text/plain": [
       "(1.2920143859916802, 103.8641382418775)"
      ]
     },
     "execution_count": 33,
     "metadata": {},
     "output_type": "execute_result"
    }
   ],
   "source": [
    "cv.computeLatLon(int(gantries[0]['X_ADDR']), int(gantries[0]['Y_ADDR']))"
   ]
  },
  {
   "cell_type": "code",
   "execution_count": 39,
   "metadata": {
    "collapsed": false
   },
   "outputs": [
    {
     "name": "stdout",
     "output_type": "stream",
     "text": [
      "BMC 1.29201438599 103.864138242\n",
      "NIC 1.30973984902 103.87033844\n",
      "CBD 1.27633286284 103.844280394\n",
      "OC1 1.2711235571 103.864299729\n",
      "CBD 1.27817778778 103.83727181\n",
      "CBD 1.28071000977 103.83718196\n",
      "CBD 1.27935346274 103.836912397\n",
      "CBD 1.28477964988 103.838350068\n",
      "BMC 1.28975344813 103.86620486\n",
      "BMC 1.29129088422 103.864946921\n",
      "BMC 1.29282832399 103.863329564\n",
      "OC1 1.2776350019 103.862790264\n",
      "OC1 1.26841041034 103.868361069\n",
      "OC1 1.26850086718 103.866833563\n",
      "OC1 1.27609757645 103.863239515\n",
      "BMC 1.29409445333 103.861712201\n",
      "BMC 1.29635538666 103.859735431\n",
      "BMC 1.29807367392 103.860274575\n",
      "CBD 1.27781597586 103.852097674\n",
      "CBD 1.27844903521 103.851558556\n",
      "OC1 1.27944371456 103.864227945\n",
      "OC1 1.27826802813 103.865216322\n",
      "BMC 1.28016728675 103.856680235\n",
      "CBD 1.27872032908 103.853625194\n",
      "CBD 1.28025775639 103.852726668\n",
      "OC1 1.27998636569 103.861442484\n",
      "OC1 1.27365571395 103.869259675\n",
      "BMC 1.30277627777 103.86782241\n",
      "EC2 1.29762150473 103.859016608\n",
      "EC1 1.31833145286 103.859250442\n",
      "CT1 1.29866988702 103.89720475\n",
      "PE1 1.30675507875 103.889926723\n",
      "CT1 1.30094899936 103.892541359\n",
      "CT1 1.28839664804 103.881929304\n",
      "CT4 1.29544092729 103.910727737\n",
      "AY1 1.23160292743 103.851108971\n",
      "PE2 1.25602013745 103.894058844\n",
      "PE2 1.264611671 103.891004034\n",
      "THM 1.27356464327 103.900708413\n",
      "OR1 1.30476545675 103.890825225\n",
      "KAL 1.30449449036 103.873213712\n",
      "PE3 1.30099421991 103.89244252\n",
      "DZ1 1.25990910214 103.884983775\n",
      "DZ1 1.2614465293 103.884624393\n",
      "PE1 1.30928736824 103.886781862\n",
      "CT5 1.29852521368 103.896216348\n",
      "OC2 1.28423687735 103.861712092\n",
      "OC3 1.28405599729 103.862341068\n",
      "OC2 1.28269946116 103.86135266\n",
      "CBD 1.28868649679 103.841872357\n",
      "CT6 1.29680707901 103.889567084\n",
      "EC3 1.29798325517 103.85856734\n",
      "EC3 1.29772106875 103.848755235\n",
      "BKE 1.22373370235 103.916790617\n",
      "UBT 1.20501332795 103.917778406\n",
      "TPZ 1.28966223463 103.904123288\n",
      "KBZ 1.3092873968 103.88543404\n",
      "GBZ 1.30820219827 103.883547068\n",
      "BKZ 1.30684577186 103.877167357\n",
      "SR2 1.28378477665 103.853086111\n",
      "SR1 1.28396565102 103.852906404\n",
      "SR1 1.2851413321 103.852007873\n",
      "SR2 1.28993448078 103.849851409\n",
      "SR1 1.29002491785 103.849761555\n",
      "PE4 1.34835578079 103.891994362\n",
      "KP1 1.31145830049 103.857399361\n",
      "SR2 1.29698853371 103.848683347\n",
      "CT5 1.29825388403 103.89702503\n",
      "CT2 1.2988778908 103.897204755\n",
      "SR1 1.29717845038 103.848674363\n",
      "CBD 1.29052236427 103.83954514\n",
      "OR1 1.30447609362 103.889351603\n"
     ]
    }
   ],
   "source": [
    "with open('gantries.csv', 'w') as mycsvfile:\n",
    "    writer = csv.writer(mycsvfile)\n",
    "    for gantry in gantries:\n",
    "        (lat, lon) = cv.computeLatLon(int(gantry['X_ADDR']), int(gantry['Y_ADDR']))\n",
    "        print gantry['ZONEID'], lat, lon\n",
    "        writer.writerow([gantry['ZONEID'], lat, lon])\n",
    "    "
   ]
  },
  {
   "cell_type": "code",
   "execution_count": null,
   "metadata": {
    "collapsed": true
   },
   "outputs": [],
   "source": []
  }
 ],
 "metadata": {
  "kernelspec": {
   "display_name": "Python 2",
   "language": "python",
   "name": "python2"
  },
  "language_info": {
   "codemirror_mode": {
    "name": "ipython",
    "version": 2
   },
   "file_extension": ".py",
   "mimetype": "text/x-python",
   "name": "python",
   "nbconvert_exporter": "python",
   "pygments_lexer": "ipython2",
   "version": "2.7.12"
  }
 },
 "nbformat": 4,
 "nbformat_minor": 0
}
